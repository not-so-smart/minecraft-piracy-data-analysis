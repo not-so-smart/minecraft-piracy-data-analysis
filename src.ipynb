{
 "cells": [
  {
   "attachments": {},
   "cell_type": "markdown",
   "metadata": {},
   "source": [
    "# Analysis of Movie Piracy\n",
    "\n",
    "Peter Currie, Otto Pfefferkorn, Andy Zheng\n",
    "\n",
    "## Introduction\n",
    "\n",
    "Movies are a popular form of entertainment that have been enjoyed by people all around the world for many years. With the rise of the internet, however, it has become easier than ever to view movies online. This has also led to a massive rise in movie piracy, which is the unauthorized watching or reproduction of movies without the permission of the copyright owner. More information about movie piracy can be found here: https://www.legalmatch.com/law-library/article/movie-piracy.html#:~:text=In%20short%2C%20movie%20piracy%20is,umbrella%20of%20intellectual%20property%20laws.\n",
    "\n",
    "Piracy has become a major issue for the movie industry, as it results in a significant financial hit for both filmmakers and movie studios. Pirated movies are often sold or distributed online for a fraction of the price of a legitimate movie, and sometimes it would be shown on websites for free with ads, which makes it a very attractive option for many people who are looking for an easy way to watch a movie they want to see.\n",
    "\n",
    "The piracy of movies not only affects the finances of the movie industry but also has an effect on the quality of the movies themselves. When people pirate movies, they often watch them on websites with a ton of ads, or download them from questionable sources, which can result in a very poor viewing experience as the movie would usually be low quality . Not only is piracy illegal, it also takes away from the creative and innovative work of the people involved in making a movie. Filmmakers rely on revenue generated from movie theatre ticket sales and legitimate DVD/BluRay and streaming purchases in order to fund their projects and create future films.\n",
    "\n",
    "This project will examine the piracy of movies by industry, and look at how much time there is between the release of the movie and the piracy of the movie."
   ]
  },
  {
   "cell_type": "code",
   "execution_count": 170,
   "metadata": {},
   "outputs": [
    {
     "data": {
      "text/html": [
       "<div>\n",
       "<style scoped>\n",
       "    .dataframe tbody tr th:only-of-type {\n",
       "        vertical-align: middle;\n",
       "    }\n",
       "\n",
       "    .dataframe tbody tr th {\n",
       "        vertical-align: top;\n",
       "    }\n",
       "\n",
       "    .dataframe thead th {\n",
       "        text-align: right;\n",
       "    }\n",
       "</style>\n",
       "<table border=\"1\" class=\"dataframe\">\n",
       "  <thead>\n",
       "    <tr style=\"text-align: right;\">\n",
       "      <th></th>\n",
       "      <th>IMDb-rating</th>\n",
       "      <th>appropriate_for</th>\n",
       "      <th>downloads</th>\n",
       "      <th>industry</th>\n",
       "      <th>language</th>\n",
       "      <th>posted_date</th>\n",
       "      <th>release_date</th>\n",
       "      <th>title</th>\n",
       "      <th>views</th>\n",
       "    </tr>\n",
       "  </thead>\n",
       "  <tbody>\n",
       "    <tr>\n",
       "      <th>0</th>\n",
       "      <td>4.8</td>\n",
       "      <td>R</td>\n",
       "      <td>304</td>\n",
       "      <td>Hollywood / English</td>\n",
       "      <td>English</td>\n",
       "      <td>20 Feb, 2023</td>\n",
       "      <td>Jan 28 2023</td>\n",
       "      <td>Little Dixie</td>\n",
       "      <td>2,794</td>\n",
       "    </tr>\n",
       "    <tr>\n",
       "      <th>1</th>\n",
       "      <td>6.4</td>\n",
       "      <td>TV-PG</td>\n",
       "      <td>73</td>\n",
       "      <td>Hollywood / English</td>\n",
       "      <td>English</td>\n",
       "      <td>20 Feb, 2023</td>\n",
       "      <td>Feb 05 2023</td>\n",
       "      <td>Grilling Season: A Curious Caterer Mystery</td>\n",
       "      <td>1,002</td>\n",
       "    </tr>\n",
       "    <tr>\n",
       "      <th>2</th>\n",
       "      <td>5.2</td>\n",
       "      <td>R</td>\n",
       "      <td>1,427</td>\n",
       "      <td>Hollywood / English</td>\n",
       "      <td>English,Hindi</td>\n",
       "      <td>20 Apr, 2021</td>\n",
       "      <td>Jun 18 2021</td>\n",
       "      <td>In the Earth</td>\n",
       "      <td>14,419</td>\n",
       "    </tr>\n",
       "    <tr>\n",
       "      <th>3</th>\n",
       "      <td>8.1</td>\n",
       "      <td>NaN</td>\n",
       "      <td>1,549</td>\n",
       "      <td>Tollywood</td>\n",
       "      <td>Hindi</td>\n",
       "      <td>20 Feb, 2023</td>\n",
       "      <td>Feb 17 2023</td>\n",
       "      <td>Vaathi</td>\n",
       "      <td>4,878</td>\n",
       "    </tr>\n",
       "    <tr>\n",
       "      <th>4</th>\n",
       "      <td>4.6</td>\n",
       "      <td>NaN</td>\n",
       "      <td>657</td>\n",
       "      <td>Tollywood</td>\n",
       "      <td>Hindi</td>\n",
       "      <td>20 Feb, 2023</td>\n",
       "      <td>Jan 26 2023</td>\n",
       "      <td>Alone</td>\n",
       "      <td>2,438</td>\n",
       "    </tr>\n",
       "  </tbody>\n",
       "</table>\n",
       "</div>"
      ],
      "text/plain": [
       "   IMDb-rating appropriate_for downloads             industry       language   \n",
       "0          4.8               R       304  Hollywood / English        English  \\\n",
       "1          6.4           TV-PG        73  Hollywood / English        English   \n",
       "2          5.2               R     1,427  Hollywood / English  English,Hindi   \n",
       "3          8.1             NaN     1,549            Tollywood          Hindi   \n",
       "4          4.6             NaN       657            Tollywood          Hindi   \n",
       "\n",
       "    posted_date release_date                                       title   \n",
       "0  20 Feb, 2023  Jan 28 2023                                Little Dixie  \\\n",
       "1  20 Feb, 2023  Feb 05 2023  Grilling Season: A Curious Caterer Mystery   \n",
       "2  20 Apr, 2021  Jun 18 2021                                In the Earth   \n",
       "3  20 Feb, 2023  Feb 17 2023                                      Vaathi   \n",
       "4  20 Feb, 2023  Jan 26 2023                                       Alone   \n",
       "\n",
       "    views  \n",
       "0   2,794  \n",
       "1   1,002  \n",
       "2  14,419  \n",
       "3   4,878  \n",
       "4   2,438  "
      ]
     },
     "execution_count": 170,
     "metadata": {},
     "output_type": "execute_result"
    }
   ],
   "source": [
    "import pandas as pd\n",
    "import numpy as np\n",
    "\n",
    "movie_data = pd.read_csv(\"movies_dataset.csv\", sep=',')\n",
    "\n",
    "#Movie Piracy Database - drop qualitative data\n",
    "movie_data = movie_data.drop(columns=['Unnamed: 0','id'])\n",
    "movie_data = movie_data.drop(columns=['storyline', 'writer', 'director'])\n",
    "movie_data = movie_data.drop(columns=['run_time'])\n",
    "\n",
    "movie_data.head()\n",
    "\n"
   ]
  },
  {
   "cell_type": "code",
   "execution_count": 178,
   "metadata": {},
   "outputs": [
    {
     "data": {
      "text/plain": [
       "IMDb-rating         841\n",
       "appropriate_for    9476\n",
       "downloads             1\n",
       "industry              1\n",
       "language            546\n",
       "posted_date           1\n",
       "release_date          1\n",
       "title                 1\n",
       "views                 1\n",
       "dtype: int64"
      ]
     },
     "execution_count": 178,
     "metadata": {},
     "output_type": "execute_result"
    }
   ],
   "source": [
    "\n",
    "\n",
    "#There is a significant amount of null data in the dataframe\n",
    "\n",
    "#Find NaN count by column\n",
    "na_counts = movie_data.isna().sum()\n",
    "\n",
    "#Create array of industries for iteration, deleting nan value\n",
    "industries = movie_data['industry'].unique()\n",
    "industries = [x for x in industries if str(x) != 'nan']\n",
    "\n",
    "#group of groups by industry\n",
    "movies_by_industry = movie_data.groupby('industry')\n",
    "\n",
    "industry_hash = {}\n",
    "#create individual dataframes by industry and put them into a hashmap\n",
    "#used for hashmaps of percentage values\n",
    "for industry in industries:\n",
    "    industry_hash[industry] = movies_by_industry.get_group(industry)\n",
    "\n",
    "na_counts\n"
   ]
  },
  {
   "cell_type": "code",
   "execution_count": 176,
   "metadata": {},
   "outputs": [
    {
     "data": {
      "text/plain": [
       "{'Hollywood / English': 40.064,\n",
       " 'Tollywood': 70.563,\n",
       " 'Wrestling': 96.998,\n",
       " 'Bollywood / Indian': 58.866,\n",
       " 'Punjabi': 87.952,\n",
       " 'Anime / Kids': 28.122,\n",
       " 'Dub / Dual Audio': 8.889,\n",
       " 'Pakistani': 89.13,\n",
       " 'Stage shows': 100.0,\n",
       " '3D Movies': 0.0}"
      ]
     },
     "execution_count": 176,
     "metadata": {},
     "output_type": "execute_result"
    }
   ],
   "source": [
    "na_by_industry = {}\n",
    "#this hashmap is for the percentage of NaN values in the appropriate_for category by industry\n",
    "for industry in industries:\n",
    "    appropriate_column = industry_hash[industry]['appropriate_for']\n",
    "    #na count divided by total size, rounded to 3 decimal places\n",
    "    temp_na_percentage = round(appropriate_column.isna().sum()/appropriate_column.size * 100, 3)\n",
    "    na_by_industry[industry]= temp_na_percentage\n",
    "\n",
    "na_by_industry"
   ]
  },
  {
   "cell_type": "code",
   "execution_count": 175,
   "metadata": {},
   "outputs": [
    {
     "data": {
      "text/plain": [
       "{'Hollywood / English': 71.292,\n",
       " 'Tollywood': 5.704,\n",
       " 'Wrestling': 2.107,\n",
       " 'Bollywood / Indian': 12.872,\n",
       " 'Punjabi': 1.616,\n",
       " 'Anime / Kids': 5.105,\n",
       " 'Dub / Dual Audio': 0.219,\n",
       " 'Pakistani': 0.448,\n",
       " 'Stage shows': 0.628,\n",
       " '3D Movies': 0.005}"
      ]
     },
     "execution_count": 175,
     "metadata": {},
     "output_type": "execute_result"
    }
   ],
   "source": [
    "industry_percentage = {}\n",
    "#percentage of movies made by industry\n",
    "for industry in industries:\n",
    "        percentage = round(industry_hash[industry].size/movie_data.size * 100, 3)\n",
    "        industry_percentage[industry] = percentage\n",
    "\n",
    "industry_percentage"
   ]
  }
 ],
 "metadata": {
  "kernelspec": {
   "display_name": "Python 3",
   "language": "python",
   "name": "python3"
  },
  "language_info": {
   "codemirror_mode": {
    "name": "ipython",
    "version": 3
   },
   "file_extension": ".py",
   "mimetype": "text/x-python",
   "name": "python",
   "nbconvert_exporter": "python",
   "pygments_lexer": "ipython3",
   "version": "3.10.6"
  },
  "orig_nbformat": 4
 },
 "nbformat": 4,
 "nbformat_minor": 2
}
