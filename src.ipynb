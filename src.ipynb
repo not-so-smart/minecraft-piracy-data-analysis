{
 "cells": [
  {
   "cell_type": "code",
   "execution_count": 80,
   "metadata": {},
   "outputs": [
    {
     "ename": "AttributeError",
     "evalue": "'DataFrameGroupBy' object has no attribute 'loc'",
     "output_type": "error",
     "traceback": [
      "\u001b[0;31m---------------------------------------------------------------------------\u001b[0m",
      "\u001b[0;31mAttributeError\u001b[0m                            Traceback (most recent call last)",
      "Cell \u001b[0;32mIn[80], line 31\u001b[0m\n\u001b[1;32m     27\u001b[0m movie_data \u001b[39m=\u001b[39m movie_data\u001b[39m.\u001b[39mdropna()\n\u001b[1;32m     29\u001b[0m movies_by_industry\u001b[39m.\u001b[39mfirst()\n\u001b[0;32m---> 31\u001b[0m movies_by_industry\u001b[39m.\u001b[39;49mloc[(movies_by_industry[\u001b[39m'\u001b[39m\u001b[39m3D Movies\u001b[39m\u001b[39m'\u001b[39m])]\n",
      "File \u001b[0;32m~/.local/lib/python3.10/site-packages/pandas/core/groupby/groupby.py:952\u001b[0m, in \u001b[0;36mGroupBy.__getattr__\u001b[0;34m(self, attr)\u001b[0m\n\u001b[1;32m    949\u001b[0m \u001b[39mif\u001b[39;00m attr \u001b[39min\u001b[39;00m \u001b[39mself\u001b[39m\u001b[39m.\u001b[39mobj:\n\u001b[1;32m    950\u001b[0m     \u001b[39mreturn\u001b[39;00m \u001b[39mself\u001b[39m[attr]\n\u001b[0;32m--> 952\u001b[0m \u001b[39mraise\u001b[39;00m \u001b[39mAttributeError\u001b[39;00m(\n\u001b[1;32m    953\u001b[0m     \u001b[39mf\u001b[39m\u001b[39m\"\u001b[39m\u001b[39m'\u001b[39m\u001b[39m{\u001b[39;00m\u001b[39mtype\u001b[39m(\u001b[39mself\u001b[39m)\u001b[39m.\u001b[39m\u001b[39m__name__\u001b[39m\u001b[39m}\u001b[39;00m\u001b[39m'\u001b[39m\u001b[39m object has no attribute \u001b[39m\u001b[39m'\u001b[39m\u001b[39m{\u001b[39;00mattr\u001b[39m}\u001b[39;00m\u001b[39m'\u001b[39m\u001b[39m\"\u001b[39m\n\u001b[1;32m    954\u001b[0m )\n",
      "\u001b[0;31mAttributeError\u001b[0m: 'DataFrameGroupBy' object has no attribute 'loc'"
     ]
    }
   ],
   "source": [
    "import pandas as pd\n",
    "mc_data = pd.read_csv(\"piracydataset.csv\", sep=',')\n",
    "movie_data = pd.read_csv(\"movies_dataset.csv\", sep=',')\n",
    "\n",
    "\n",
    "#Minecraft Piracy Dataset\n",
    "#Drop residual column\n",
    "mc_data.drop(columns=['Unnamed: 0'])\n",
    "#Because the individual usernames are not relevant to the analysis, drop them\n",
    "#mc_data.drop(columns=['discordid', 'minecraftid']) \n",
    "\n",
    "#Movie Piracy Database\n",
    "movie_data = movie_data.drop(columns=['Unnamed: 0','id'])\n",
    "movie_data = movie_data.drop(columns=['storyline', 'writer', 'director'])\n",
    "movie_data = movie_data.drop(columns=['run_time'])\n",
    "\n",
    "ratings = movie_data['IMDb-rating']\n",
    "na_counts = movie_data.isna().sum()\n",
    "industries = movie_data['industry'].unique()\n",
    "\n",
    "movies_by_industry = movie_data.groupby('industry')\n",
    "\n",
    "Hollywood_movies = None\n",
    "\n",
    "na_count = rating.isna().sum()\n",
    "\n",
    "movie_data = movie_data.dropna()\n",
    "\n",
    "movies_by_industry.first()\n",
    "\n",
    "movies_by_industry.loc[(movies_by_industry['3D Movies'])]\n"
   ]
  }
 ],
 "metadata": {
  "kernelspec": {
   "display_name": "Python 3",
   "language": "python",
   "name": "python3"
  },
  "language_info": {
   "codemirror_mode": {
    "name": "ipython",
    "version": 3
   },
   "file_extension": ".py",
   "mimetype": "text/x-python",
   "name": "python",
   "nbconvert_exporter": "python",
   "pygments_lexer": "ipython3",
   "version": "3.10.6"
  },
  "orig_nbformat": 4
 },
 "nbformat": 4,
 "nbformat_minor": 2
}
